{
  "nbformat": 4,
  "nbformat_minor": 0,
  "metadata": {
    "colab": {
      "name": "FrenchFlagToMrPotatoHead.ipynb",
      "provenance": [],
      "collapsed_sections": [],
      "authorship_tag": "ABX9TyMOd0WLmuGKWJZpssnt5WCn",
      "include_colab_link": true
    },
    "kernelspec": {
      "name": "python3",
      "display_name": "Python 3"
    }
  },
  "cells": [
    {
      "cell_type": "markdown",
      "metadata": {
        "id": "view-in-github",
        "colab_type": "text"
      },
      "source": [
        "<a href=\"https://colab.research.google.com/github/danadler-dev/OO-morpho-genetic-code/blob/main/FrenchFlagToMrPotatoHead.ipynb\" target=\"_parent\"><img src=\"https://colab.research.google.com/assets/colab-badge.svg\" alt=\"Open In Colab\"/></a>"
      ]
    },
    {
      "cell_type": "markdown",
      "metadata": {
        "id": "Ee9buHkgekDp"
      },
      "source": [
        "<center>\n",
        "\n",
        "# Object-Oriented Morphogenetic Code:\n",
        "# From The French Flag to Mr. Potato Head \n",
        "\n",
        "## Dan Adler, 12-29-2020\n",
        "## dan@danadler.com\n",
        "\n",
        "<img src=\"https://upload.wikimedia.org/wikipedia/en/thumb/c/c3/Flag_of_France.svg/500px-Flag_of_France.svg.png\" width=250 height=200/>\n",
        "\n",
        "<img src=\"https://encrypted-tbn0.gstatic.com/images?q=tbn:ANd9GcQppLrE-_VC03OVyc4rZ7nzQVnPr3psFt90JQ&usqp=CAU\" width=250 height=200/>\n",
        "\n",
        "</center>\n",
        "\n",
        "## Abstract\n",
        "\n",
        "I present a toy example that models how a simple biological body plan could be stored in object-oriented genetic (or morphogenetic) code. The same code is stored in each cell of a grid and executes in parallel, resulting in a pre-determined graphical pattern. Unlike [Cellular Automata](https://en.wikipedia.org/wiki/Cellular_automaton) patterns, which operate bottom-up by iterating simple cell operations into emergent macro patterns, body plans are shown to implement top-down object-oriented code patterns.\n",
        "\n",
        "## Introduction\n",
        "\n",
        "How exactly does our body build itself from one cell into a fully formed body? This is one of the big open questions in Biology. \n",
        "\n",
        "How did the cells at the tip of your nose know to grow in such a way that resembles your parent's noses and then stop growing?\n",
        "\n",
        "Orginally, Biologists thought that seqeuencing the genome would give all the answers. So far, only 1% of the DNA has actually been deciphered. This is typically called [Coding DNA](https://www.genome.gov/genetics-glossary/Genetic-Code). \n",
        "\n",
        "The genetic code is summarized in the following diagram where combinations of the four \"letters\" (ATCG) make up 3-letter \"codons\" (like AUG, CCG, etc.), which make up 20 Amino Acids, that then sequence and fold into all the Proteins that build and maintain the bodies of all living organisms.\n",
        "\n",
        "<center>\n",
        "<img src=\"https://med.libretexts.org/@api/deki/files/379/0324_DNA_Translation_and_Codons.jpg?revision=1\" width=600>\n",
        "</center>\n",
        "\n",
        "Proteins are the \"bricks\" from which the \"building\" of life is built. However, we have not yet found the architectural plan.\n",
        "\n",
        "Just as you would not start laying down bricks and hope to build the Empire State Building, there has to be an architectural plan which the body is following as it builds itself from one cell to a fully functional organism. Another analogy would a recipe. Proteins provide a list of ingredients. But where are the instructions? How do you get from flour and cheese to a cake?\n",
        "\n",
        "The 99% of the genome which does not code for Proteins was once called \"Junk DNA\" but is now called [Non-coding DNA](https://en.wikipedia.org/wiki/Non-coding_DNA), and scientists are just begining to decipher its functionality. \n",
        "\n",
        "It is possible that our body's architectural plans are encoded as software within that non-coding DNA. As far as I know, no one has yet actually found any code in the genome to build a nose or a kidney or a hand, so this is pure speculation at this stage.\n",
        "\n",
        "## Cell Differentiation, Morphogenesis and Body Plans\n",
        "\n",
        "What mechanism would this hypothetical software use to store a body plan in each cell such that the cell can build itself into a body? The answer most likely lies in the process of [Cell Differentiation](https://en.wikipedia.org/wiki/Cellular_differentiation):\n",
        "\n",
        "> Cellular differentiation is the process in which a cell changes from one cell type to another.Usually, the cell changes to a more specialized type. Differentiation occurs numerous times during the development of a multicellular organism as it changes from a simple zygote to a complex system of tissues and cell types. Differentiation continues in adulthood as adult stem cells divide and create fully differentiated daughter cells during tissue repair and during normal cell turnover. Differentiation dramatically changes a cell's size, shape, membrane potential, metabolic activity, and responsiveness to signals. \n",
        "\n",
        "When cells divide, they may differentiate into specialized cells such as skin cells, liver cells, bone cells, etc. but the exact mechanism of which cells differentiate into which target cell types is still a mystery.\n",
        "\n",
        "The great Alan Turing wrote a paper in 1952 called [The Chemical Basis of Morphology](https://www.dna.caltech.edu/courses/cs191/paperscs191/turing.pdf), in which he laid the foundation for the field of [Morphogenesis](https://en.wikipedia.org/wiki/Morphogenesis): \n",
        "> Morphogenesis: (from the Greek morphê shape and genesis creation, literally \"the generation of form\") is the biological process that causes a cell, tissue or organism to develop its shape. It is one of three fundamental aspects of developmental biology along with the control of tissue growth and patterning of cellular differentiation.\n",
        "\n",
        "Strangely enough, Turing, one of the fathers of computer science, thouhght of body plans as bottom-up chemical processes, rather than as top-down software processes.\n",
        "\n",
        "A great survey by Giovanni Pezzulo and Michael Levin of the state of the art of top-down and bottom-up morphogenic mechanisms can be found [here](https://royalsocietypublishing.org/doi/10.1098/rsif.2016.0555).\n",
        "\n",
        "Katherine E. Willmore's article [The Body Plan Concept and Its Centrality in Evo-Devo](https://link.springer.com/content/pdf/10.1007/s12052-012-0424-z.pdf) states:\n",
        "\n",
        "> A body plan is a suite of characters shared by a\n",
        "group of phylogenetically related animals at some point\n",
        "during their development. The concept of bauplane, or body\n",
        "plans, has played and continues to play a central role in the\n",
        "study of evolutionary developmental biology (evo-devo).\n",
        "\n",
        "> ...The body plan concept is not the archaic, outdated, metaphysical concept that it is described to be by some researchers. Rather, it is based on modern evolutionary principles\n",
        "and provides a conceptual foundation for evo-devo research.\n",
        "Major evo-devo concepts such as constraint, evolvability,\n",
        "homology, canalization, integration and modularity, heterochrony, and other concepts are based on the existence of\n",
        "animal body plans. \n",
        "\n",
        "## The Morphogenetic Code\n",
        "\n",
        "In this article, I ignore all the biochemistry, bioelectricity and cell biology, and ask a very simple software engineering question: suppose there is some morphogenetic code inside each cell that determines the body plan and cell differentiation pattern. What would that code look like from a computer-science point of view?\n",
        "\n",
        "My main claim in this article is that the morphogentic code (if it exists) is likely to be object-oriented and hierarchical.\n",
        "\n",
        "To see why the code has to be object-oriented, think of your symmetrical organs: your eyes, your ears, your arms, etc. your eyes are very similar to each other, they have the same shape and color (possibly differing in some aspects), and they are mirror images of each other. \n",
        "\n",
        "Your left eye could not possibly have evolved separately from your right eye. \n",
        "\n",
        "This is a key insight that explains why some equivalent of software classes and object instances must be involves.\n",
        "\n",
        "Some Biologists view this observation as metaphysical or philosophical, as if we are invoking Plato's [Theory of Form](https://en.wikipedia.org/wiki/Theory_of_forms).\n",
        "\n",
        "However, as software engineers, we know that classes and their object instances are different things, and are expressed in code rather than in abstract ideas.\n",
        "\n",
        "<center>\n",
        "<img src=\"https://raw.githubusercontent.com/andrejrs/Object-Oriented-PHP/master/images/Wordane-OOP-car-class-eg-2.jpg\" height=250>\n",
        "</center>\n",
        "\n",
        "In order for evolution to make sense, There has to be an **Eye** class somewhere in this hypothetical morphogenetic code, which evolves for each species. This Eye class and its parameters form a unit of [Evolvability](https://en.wikipedia.org/wiki/Evolvability). When your body builds itself, it creates two **instances** of the Eye class, passing different parameters to the left and right eye objects.\n",
        "\n",
        "<center>\n",
        "<img src=\"https://moa.byu.edu/wp-content/uploads/lw355.jpg\" height=250>\n",
        "</center>\n",
        "\n",
        "A hand or foot demonstrates why the morphogenetic code classes have to be hierarchical in structure. Each hand has five fingers and each foot has five toes. Each finger is clearly related to the other fingers, and could not possibly have evolved independently: each finger has 3 joints, and the thumb has 2 joints. Then at a higher level of the object hierarchy, the left and right hands are mirror images of each other, so they could not have evolved independently. Both levels of class abstraction (hand and finger) have to exist separately, and one must contain the other, hence the classes form a hierarchy.\n",
        "\n",
        "I will demonstrate in the simple examples below one possble way for a hierarchy of software objects to be encoded into cells such they the cells will cooperate to generate complex pre-defined structural patterns.\n"
      ]
    },
    {
      "cell_type": "markdown",
      "metadata": {
        "id": "yRZx3nN4oJLm"
      },
      "source": [
        "## The French Flag Problem\n",
        "\n",
        "In 1968, [Lewis Wolpert](https://en.wikipedia.org/wiki/Lewis_Wolpert) considered a simplified model of pattern formation which he called [The French Flag Problem](http://qobweb.igc.gulbenkian.pt/courses/pgcd2015/Docs/JTheoretBiol-1969-25-1.pdf). Wolpert said: \"The key to the problem of pattern formation lies in the correct posing of the problem so that an answer can be obtained in terms of cellular behaviour. In very general terms it is the problem of assigning specific states to an ensemble of identical cells, whose initial states are relatively similar, such that the resulting ensemble of states forms a well-defined spatial pattern.\" \n",
        "\n",
        "Wolpert goes on to characterize the problem as follows:\n",
        "> This problem is concerned with the necessary properties and communications between units arranged in a line, each with three possibilities for molecular differentiation: blue, white and red, such that system always forms a\n",
        "French Flag irrespective of the number of units or which parts are removed;\n",
        "that is the left-hand third is always blue, the middle third is always white\n",
        "and the right-hand third always red. This abstraction of the problem\n",
        "corresponds quite well with experimental observations on the early development of sea urchin embryos, and regeneration of hydroids as well as a large\n",
        "variety of other systems. For example, the proportions of the mesenchyme,\n",
        "endoderm and ectoderm of the sea urchin embryo remain constant over\n",
        "about an eightfold size range; a fragment of hydra, one-hundredth its volume\n",
        "can give rise to an almost complete animal\n",
        "\n",
        "In solving the problem, Wolpert makes three key assumptions:\n",
        "1. The system can be modeled as a grid of cells (since enough cells divide before they start differentiation)\n",
        "2. The system must be scale-invariant: if you cut off part of it, it should grow back scaled up or down as needed\n",
        "3. Cells can determine their positional information within the grid\n",
        "\n",
        "Here is how Wolpert explains positional information: \n",
        "\n",
        "> 1. There are mechanisms whereby cells in a developing system may have\n",
        "their position specified with respect to one or more points in the system.\n",
        "When cells have their positional information specified with respect to the\n",
        "same set of points, this constitutes a field. \n",
        "2. Positional information largely determines, with respect to the cell\n",
        "genome and developmental history, the nature of the molecular differentiation\n",
        "that the cell will undergo. The general process whereby positional information\n",
        "leads to a particular cellular activity or molecular differentiation will be\n",
        "termed the interpretation of the positional information. The specification of\n",
        "positional information in general precedes and is independent of molecular\n",
        "differentiation.\n",
        "3. Polarity may be defined in relation to the points with respect to which\n",
        "a cell's position is being specified: it is the direction in which positional\n",
        "information is specified or measured.\n",
        "4. Positional information may be universal, that is the same mechanisms\n",
        "that specify positional information may be operative in different fields\n",
        "within the same organism as well as in quite different organisms from\n",
        "different genera or even phyla.\n",
        "5. The classical cases of pattern regulation whether in development or\n",
        "in regeneration, that is the ability of the system to form the pattern when\n",
        "parts are removed or added, and to show size invariance, as illustrated by\n",
        "the French Flag problem, are largely dependent on the ability of the ceils to\n",
        "change their positional information in an appropriate manner and to be\n",
        "able to interpret this change.\n"
      ]
    },
    {
      "cell_type": "markdown",
      "metadata": {
        "id": "SPIW5Eajr1JQ"
      },
      "source": [
        "The bio-physics of positional information is currently an area of active research. Wolpert assumed it was based on a linear gradient of [Morphogens](https://en.wikipedia.org/wiki/Morphogen), but the exact mechanism is not important to this discussion: \n",
        "> A morphogen is a substance whose non-uniform distribution governs the pattern of tissue development in the process of morphogenesis or pattern formation, one of the core processes of developmental biology, establishing positions of the various specialized cell types within a tissue. More specifically, a morphogen is a signaling molecule that acts directly on cells to produce specific cellular responses depending on its local concentration.\n",
        "\n",
        "Assuming there is a biological explanation for cells knowing their positional information allows us to create some simplifying assumptions for a toy model:\n",
        "1. There is a regular grid of cells (rectangular, or odd-shaped, like a new  embryo)\n",
        "2. Each cell in the grid can determine its location within the grid\n",
        "3. Each cell in the grid executes the same code at each step based only on its location and some meta-parameters (which essentially express the body plan)\n"
      ]
    },
    {
      "cell_type": "markdown",
      "metadata": {
        "id": "KapAgqSW69TO"
      },
      "source": [
        "Let's see how this applies to Wolpert's French Flag Problem.\n",
        "\n",
        "I am assuming a square $N$ x $N$ grid of cells, where cells(x,y) is the individual cell whose distance from the top left corner of the grid is x horizontally and y vertically (both are positive downwards). This corresponds to a 2-dimensional [numpy](https://numpy.org/) array. For simplicity, each cell in the grid holds an rgb (red-green-blue) triplet scaled to 1, so that [1,0,0] is red, [0,1,0] is green, [0, 0, 1] is blue etc.\n",
        "\n",
        "This allows us to interpret the square grid as an image, and render it using matplotlib's pyplot.imshow() function.\n",
        "\n"
      ]
    },
    {
      "cell_type": "markdown",
      "metadata": {
        "id": "YI8BSk-xekB7"
      },
      "source": [
        "The simulation engine is a class called Organism which holds the $N$ by $N$ grid which has $N^2$ cells. When we call the cells() method, it zeros out the whole grid, and then loops through all (x,y) coordinates of the grid, so that each cell runs the same code.\n",
        "\n",
        "The code for each cell is stored in an array of shapes of type Shape. Each shape has a cells(x,y) function which are invoked in sequence. This is the \"program\" of each cell, which depends only on the (x,y) cooordinates passed in, and some meta-parameters which are passed into the shape's constructor.\n",
        "\n",
        "If the Organism() object were implemented in a parallel computer architecture (like the [Connection Machine](https://dspace.mit.edu/bitstream/handle/1721.1/14719/18524280-MIT.pdf)), there would not be any need for looping, as each node would represent a grid point, and would runs the shape codes in parallel."
      ]
    },
    {
      "cell_type": "code",
      "metadata": {
        "id": "lHddBWcAeQwy"
      },
      "source": [
        "import numpy as np\n",
        "import math\n",
        "from matplotlib import pyplot\n",
        "%matplotlib inline  \n",
        "\n",
        "class Shape:\n",
        "  def cells(self, x, y): pass\n",
        "\n",
        "class Organism:\n",
        "  def cells(self):\n",
        "    im = np.zeros((self.N,self.N,3), dtype=float)\n",
        "    for y in range(self.N):\n",
        "      for x in range(self.N):\n",
        "        for s in self.shapes:\n",
        "          im[x,y] += s.cells(x,y)\n",
        "    pyplot.figure(figsize=(self.N/25, self.N/25))\n",
        "    pyplot.imshow(im)"
      ],
      "execution_count": null,
      "outputs": []
    },
    {
      "cell_type": "markdown",
      "metadata": {
        "id": "n0fc1SWWhIID"
      },
      "source": [
        "The Rect class takes some initialization parameters that determine the top left and bottom right grid points for the rectangle, and color of the cells which fall into the rectangle. The cells() method then checks the positional coordinates against the constraints and returns the rectangle's color if they are inside."
      ]
    },
    {
      "cell_type": "code",
      "metadata": {
        "id": "suuOGsumRjmu"
      },
      "source": [
        "class Rect(Shape):\n",
        "  def __init__(self, top_left, bot_right, rgb):\n",
        "    self.tl = top_left\n",
        "    self.br = bot_right\n",
        "    self.rgb = rgb\n",
        "  def cells(self, x, y): \n",
        "    return self.rgb if self.tl[0]<=x<=self.br[0] and self.tl[1]<=y<=self.br[1] else np.zeros(3)"
      ],
      "execution_count": null,
      "outputs": []
    },
    {
      "cell_type": "markdown",
      "metadata": {
        "id": "EiWjcFRthtO7"
      },
      "source": [
        "We are now ready to simulate the French Flag Problem with the below code. We define a Flag class that inherits from Organism, which allows it to render itself into the grid.\n",
        "\n",
        "The Flag class takes N as a parameter, and calculates the triangles and colors based on that."
      ]
    },
    {
      "cell_type": "code",
      "metadata": {
        "id": "JrioKSXrckrP"
      },
      "source": [
        "class Flag(Organism):\n",
        "  def __init__(self, N):\n",
        "    self.grow(N)\n",
        "  def grow(self, N):\n",
        "    self.N = N\n",
        "    self.shapes = []\n",
        "    self.shapes.append(Rect((0, 0), (N, N/3), [0,0,1]))\n",
        "    self.shapes.append(Rect((0, N/3), (N, 2*N/3), [1,1,1]))\n",
        "    self.shapes.append(Rect((0, 2*N/3), (N, N), [1,0,0]))\n"
      ],
      "execution_count": null,
      "outputs": []
    },
    {
      "cell_type": "markdown",
      "metadata": {
        "id": "LnEJCccVi_xe"
      },
      "source": [
        "We can then instantiate the Flag class with a grid size, and it will render when we call its cells() method, which iterates over every cell in the grid and asks it for its color based on its location.\n"
      ]
    },
    {
      "cell_type": "code",
      "metadata": {
        "colab": {
          "base_uri": "https://localhost:8080/",
          "height": 160
        },
        "id": "idZd-gT_iwlG",
        "outputId": "83208806-8427-48d0-f4db-ddceeb067cf5"
      },
      "source": [
        "flag = Flag(50)\n",
        "flag.cells()"
      ],
      "execution_count": null,
      "outputs": [
        {
          "output_type": "display_data",
          "data": {
            "image/png": "[encoded data removed]",
            "text/plain": [
              "<Figure size 144x144 with 1 Axes>"
            ]
          },
          "metadata": {
            "tags": [],
            "needs_background": "light"
          }
        }
      ]
    },
    {
      "cell_type": "markdown",
      "metadata": {
        "id": "lIgKM9zjjJCc"
      },
      "source": [
        "If we want to simulate the same flag instance growing to double its size, we could call:"
      ]
    },
    {
      "cell_type": "code",
      "metadata": {
        "colab": {
          "base_uri": "https://localhost:8080/",
          "height": 268
        },
        "id": "jykot8zfjK6s",
        "outputId": "ec947ea1-1a44-4ca2-b845-0e8291903b65"
      },
      "source": [
        "flag.grow(100)\n",
        "flag.cells()"
      ],
      "execution_count": null,
      "outputs": [
        {
          "output_type": "display_data",
          "data": {
            "image/png": "[encoded data removed]",
            "text/plain": [
              "<Figure size 288x288 with 1 Axes>"
            ]
          },
          "metadata": {
            "tags": [],
            "needs_background": "light"
          }
        }
      ]
    },
    {
      "cell_type": "markdown",
      "metadata": {
        "id": "BhBaID-No6sD"
      },
      "source": [
        "This increases the number of cells from 50x50 to 100x100, but maintains the color structure of the flag.\n",
        "\n",
        "The French Flag example above is a trivial example of Object Oriented (OO) code, but it illustrates the point is that each cell in the grid is running the same exact code. \n",
        "\n",
        "The developmental biology analogy is that the cells in each of the 3 regions have differentiated themselves based on some constrainst that were provided by the environment (represented in this case by position in a grid). As the organism grows, more cells are differentiated into the target structure as needed to maintain structural integrity.\n",
        "\n",
        "## Mr. Potato Head\n",
        "\n",
        "In order to show the power of this paradigm, let's move onto the [Mr. Potato Head](https://en.wikipedia.org/wiki/Mr._Potato_Head) example. Here we want to build up a face from some parts, using the same paradigm we used to draw the French Flag.\n",
        "\n",
        "First, we define two more Shape classes. One representing a Circle, and one representing an Ellipse. Just like the Rect class above, these two classes take some meta-parameters that define the constraints and color of the shape, and the define the same cells(x,y) method we saw above. The method takes the x and y coordinates of the cell and determines if it is inside the shape, and if so, returns its color. As in the Flag example, the color of the cell will represent a differentiated cell, and its neighbors will assume to be in the same differentiated state.\n"
      ]
    },
    {
      "cell_type": "code",
      "metadata": {
        "id": "DJ5AiypEcKtv"
      },
      "source": [
        "class Circle(Shape):\n",
        "  def __init__(self, center, radius, rgb):\n",
        "    self.c = center\n",
        "    self.r = radius\n",
        "    self.rgb = rgb\n",
        "  def cells(self, x, y): \n",
        "    return self.rgb if (math.sqrt((self.c[0]-x)**2 + (self.c[1]-y)**2) <= self.r) else np.zeros(3)\n",
        "\n",
        "class Ellipse(Shape):\n",
        "  def __init__(self, center, radius_x, radius_y, rgb):\n",
        "    self.c = center\n",
        "    self.rxq = radius_x*radius_x\n",
        "    self.ryq = radius_y*radius_y\n",
        "    self.rgb = rgb\n",
        "  def cells(self, x, y): \n",
        "    d = (self.c[0]-x)**2/self.rxq + (self.c[1]-y)**2/self.ryq\n",
        "    return self.rgb if d<1 else np.zeros(3)\n"
      ],
      "execution_count": null,
      "outputs": []
    },
    {
      "cell_type": "markdown",
      "metadata": {
        "id": "QH7ATSsrq6N3"
      },
      "source": [
        "In this example, we want to take the complexity one step further, and define an Eye class which represents a hierarchical grouping of other Shapes. In this case, our Eye class has two versions: the first is two concentric circles, and the second is a circle (pupil) inside an ellipse (eye).\n",
        "\n",
        "The two versions of the Eye class are an analogy to different stages of evolution of the eye, or maybe eyes of different Potato Head species. As mentioned before, the Eye object can evolve over long time scales, whereas an Eye's instantiation in a specifi Organism will feature two instances of the same Eye version.\n"
      ]
    },
    {
      "cell_type": "code",
      "metadata": {
        "id": "EWk_6qP2RqJ1"
      },
      "source": [
        "class Eye(Shape):\n",
        "  def __init__(self, center, eye_size, eye_color, version=0):\n",
        "    self.shapes = []\n",
        "    if version == 0:\n",
        "      self.shapes.append(Circle(center, eye_size[0], eye_color[0]))\n",
        "    else:\n",
        "      self.shapes.append(Ellipse(center, eye_size[0], eye_size[0]*1.5, eye_color[0]))\n",
        "    self.shapes.append(Circle(center, eye_size[1], eye_color[1]))\n",
        "\n",
        "  def cells(self, x, y):\n",
        "    v = np.zeros(3)\n",
        "    for s in self.shapes:\n",
        "      v += s.cells(x,y)\n",
        "    return v\n"
      ],
      "execution_count": null,
      "outputs": []
    },
    {
      "cell_type": "markdown",
      "metadata": {
        "id": "HDtFR4OgswcT"
      },
      "source": [
        "Finally, we assemble a PotatoHead object which takes a single parameter N (grid size). We also added a version parameter just to demonstrate that round-round eyes versus ellipse-round eyes can easily fit into the same body plan.\n",
        "\n",
        "The PotatoHead constructor calculates some location constraints for its constituent Shapes based on the grid size and some aesthetic design choices that we made. I assume that, in real life, these constraints would be calculated by some evolutionary process. Once we have the constraints, we just instantiate two Eyes, one nose Rect and one mouth Rect.\n",
        "\n",
        "As in the Flag example, the shape objects are just an abstraction that organizes the code which represents a differentiated group of cells. When we call the Organism's cells() method, it will go through all cells in the grid and ask them to render themselves based on their differentiated state."
      ]
    },
    {
      "cell_type": "code",
      "metadata": {
        "id": "Szi__Ptl8Jql"
      },
      "source": [
        "class PotatoHead(Organism):\n",
        "  def __init__(self, N, version=0):\n",
        "    self.version = version\n",
        "    self.grow(N)\n",
        "\n",
        "  def grow(self, N):\n",
        "    self.N = N\n",
        "    self.shapes = []\n",
        "\n",
        "    self.left_eye_center = (0.25*N,0.25*N) # x,y\n",
        "    self.right_eye_center = (0.25*N,0.75*N) # x,y\n",
        "    self.eye_size = (N/10, N/25) # radius outer, inner\n",
        "    self.eye_color = ([1,0,0], [0,1,0]) # rgb outer, inner\n",
        "\n",
        "    self.nose_tl = (0.35*N,0.4*N)\n",
        "    self.nose_br = (0.7*N,0.6*N)\n",
        "\n",
        "    self.mouth_tl = (0.8*N,0.2*N)\n",
        "    self.mouth_br = (0.85*N,0.8*N)\n",
        "\n",
        "    # build the face\n",
        "    self.shapes.append(Eye(self.left_eye_center, self.eye_size, self.eye_color, version=self.version))\n",
        "    self.shapes.append(Eye(self.right_eye_center, self.eye_size, self.eye_color, version=self.version))\n",
        "    self.shapes.append(Rect(self.nose_tl, self.nose_br, [0,0,1]))\n",
        "    self.shapes.append(Rect(self.mouth_tl, self.mouth_br, [0,1,1]))\n"
      ],
      "execution_count": null,
      "outputs": []
    },
    {
      "cell_type": "markdown",
      "metadata": {
        "id": "tNGh4j6VuiCN"
      },
      "source": [
        "We can instantiate Mr. Potato Head with a grid on 50x50 and the default round eyes."
      ]
    },
    {
      "cell_type": "code",
      "metadata": {
        "id": "3qp1xOZHbEpZ",
        "colab": {
          "base_uri": "https://localhost:8080/",
          "height": 160
        },
        "outputId": "b7cf6514-6426-4d4c-9f08-fe3df953840d"
      },
      "source": [
        "mr_ph = PotatoHead(50)\n",
        "mr_ph.cells()"
      ],
      "execution_count": null,
      "outputs": [
        {
          "output_type": "display_data",
          "data": {
            "image/png": "[encoded data removed]",
            "text/plain": [
              "<Figure size 144x144 with 1 Axes>"
            ]
          },
          "metadata": {
            "tags": [],
            "needs_background": "light"
          }
        }
      ]
    },
    {
      "cell_type": "markdown",
      "metadata": {
        "id": "P6PVUc_Fuv2t"
      },
      "source": [
        "To demonstrate the grid size invariance we can grow Mr. Potato Head to a 100x100 grid simply by calling grow(100) on the previous instance:"
      ]
    },
    {
      "cell_type": "code",
      "metadata": {
        "colab": {
          "base_uri": "https://localhost:8080/",
          "height": 268
        },
        "id": "f5d3la-4OzF1",
        "outputId": "72ddd433-2f95-4f70-a82f-eb3766a6b2e7"
      },
      "source": [
        "mr_ph.grow(100)\n",
        "mr_ph.cells()"
      ],
      "execution_count": null,
      "outputs": [
        {
          "output_type": "display_data",
          "data": {
            "image/png": "[encoded data removed]",
            "text/plain": [
              "<Figure size 288x288 with 1 Axes>"
            ]
          },
          "metadata": {
            "tags": [],
            "needs_background": "light"
          }
        }
      ]
    },
    {
      "cell_type": "markdown",
      "metadata": {
        "id": "RElq7NTHvEzM"
      },
      "source": [
        "Imagine that thousands of generations have passed, and Mr. Potato Head's eyes have now evolved into an elliptical shape. We simulate this by instantiating a new PotatoHead with version=1 and 75x75 cells, and then we allow it to grow to 150x150 cells, while maintaining its structural integrity.\n"
      ]
    },
    {
      "cell_type": "code",
      "metadata": {
        "colab": {
          "base_uri": "https://localhost:8080/",
          "height": 214
        },
        "id": "k6cQf4VKSfuv",
        "outputId": "86518190-ee79-4147-9fc9-95d6a689591d"
      },
      "source": [
        "mr_ph = PotatoHead(75, version=1)\n",
        "mr_ph.cells()"
      ],
      "execution_count": null,
      "outputs": [
        {
          "output_type": "display_data",
          "data": {
            "image/png": "[encoded data removed]",
            "text/plain": [
              "<Figure size 216x216 with 1 Axes>"
            ]
          },
          "metadata": {
            "tags": [],
            "needs_background": "light"
          }
        }
      ]
    },
    {
      "cell_type": "code",
      "metadata": {
        "colab": {
          "base_uri": "https://localhost:8080/",
          "height": 377
        },
        "id": "VjE_0vcpoevb",
        "outputId": "33613010-0be1-4d8a-837c-48fbd9e49262"
      },
      "source": [
        "mr_ph.grow(150)\n",
        "mr_ph.cells()"
      ],
      "execution_count": null,
      "outputs": [
        {
          "output_type": "display_data",
          "data": {
            "image/png": "[encoded data removed]",
            "text/plain": [
              "<Figure size 432x432 with 1 Axes>"
            ]
          },
          "metadata": {
            "tags": [],
            "needs_background": "light"
          }
        }
      ]
    },
    {
      "cell_type": "markdown",
      "metadata": {
        "id": "DQQ-dZxwUwcy"
      },
      "source": [
        "## Conclusions\n",
        "\n",
        "These simple object-oriented implemntations of the French Flag Problem and Mr. Potato Head demonstrate that architectural body plans can be encoded and executed within each cell. This simple object-oriented model is general enough to support morphogenesis as well as regenration, where a whole organism rebuilds itself from any part.\n",
        "\n",
        "Hopefully the simplicity of these examples will give scientists some clues as to where and how the real morphogenetic code is stored and executed in our cells (if such a code exists).\n"
      ]
    }
  ]
}